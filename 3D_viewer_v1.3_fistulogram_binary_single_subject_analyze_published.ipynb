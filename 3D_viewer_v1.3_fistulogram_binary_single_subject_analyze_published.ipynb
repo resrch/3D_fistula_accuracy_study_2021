{
 "cells": [
  {
   "cell_type": "markdown",
   "metadata": {},
   "source": [
    "## Single Subject viewer: version v1.3, April 21 - May 18, 2021\n",
    "## fistula data, thresholded, binarized and segmented\n",
    "modifications: viewing for accuracy study \n",
    "comparison with 5 subjects grayscale, 2 with power Doppler data\n",
    "Data: all .npy format <br>\n",
    "(1) usn_cropped, <br>\n",
    "(2) binary_usn, <br>\n",
    "(3) fistulogram_cropped <br>\n",
    "(4) fistula_binary <br>\n",
    "## only crop, threshold, and segmentation; no filtering\n",
    "Original August 20, 2020 - Sept 15, 2020 <br>\n",
    "Revised February, March, April - June 2021\n",
    "Author: William (Rick) Weitzel <br>\n",
    "For investigational use only and prepared for release under open source 3-clause BSD license <br>"
   ]
  },
  {
   "cell_type": "code",
   "execution_count": 1,
   "metadata": {},
   "outputs": [],
   "source": [
    "# libraries for data analysis, plotting, and interaction\n",
    "import os\n",
    "import matplotlib.pyplot as plt\n",
    "import numpy as np\n",
    "import ipywidgets as widgets\n",
    "from ipywidgets import interact, VBox, HBox"
   ]
  },
  {
   "cell_type": "code",
   "execution_count": 2,
   "metadata": {},
   "outputs": [],
   "source": [
    "# generate the file_list from specified directory\n",
    "file_directory = './accuracy_test_np_data/' # select appropriate directory path\n",
    "# substring = '.npy' # select appropriate file type\n",
    "substring = '.npy'\n",
    "file_list = []\n",
    "all_files = os.listdir(file_directory)\n",
    "for i in range(0,len(all_files)):\n",
    "    if substring in all_files[i]:\n",
    "        file_list.append(all_files[i])\n",
    "file_list.sort() # needed to correct os.listdir() order"
   ]
  },
  {
   "cell_type": "code",
   "execution_count": 3,
   "metadata": {},
   "outputs": [
    {
     "name": "stdout",
     "output_type": "stream",
     "text": [
      ".npy file list \n",
      "\n",
      "f_007_fistula_binary.npy\n",
      "f_007_fistula_binary_NEW.npy\n",
      "f_016_fistula_binary.npy\n",
      "f_017_d55_fistula_binary.npy\n",
      "f_017_fistula_binary.npy\n",
      "f_018_fistula_binary.npy\n",
      "f_019_fistula_binary.npy\n",
      "f_020_fistulogram_binary_crop.npy\n",
      "f_020_fistulogram_binary_crop_FLIP.npy\n",
      "f_020_fistulogram_binary_crop_view_2.npy\n",
      "fistulogram_2_007_crop.npy\n",
      "fistulogram_2_016_crop.npy\n",
      "fistulogram_2_017_crop.npy\n",
      "fistulogram_2_017_d55_crop.npy\n",
      "fistulogram_2_018_crop.npy\n",
      "fistulogram_2_019_crop.npy\n",
      "fistulogram_2_020_crop.npy\n",
      "fistulogram_2_020_crop_FLIP.npy\n",
      "s_007_binary.npy\n",
      "s_016_binary.npy\n",
      "s_017_binary.npy\n",
      "s_017_d55_DOPPLER_binary_medFilt20.npy\n",
      "s_017_d55_binary_DOPPLER.npy\n",
      "s_017_d55_binary_GRAYSCALE.npy\n",
      "s_018_binary.npy\n",
      "s_019_binary.npy\n",
      "s_020_sono_binary_GRAYSCALE.npy\n",
      "s_020_sono_binary_img_26_DOPPLER.npy\n",
      "s_020_sono_binary_img_26_DOPPLER_medFilt20.npy\n",
      "sono_data_crop_2_007.npy\n",
      "sono_data_crop_2_016.npy\n",
      "sono_data_crop_2_017.npy\n",
      "sono_data_crop_2_017_d55_img03_GRAYSCALE.npy\n",
      "sono_data_crop_2_017_d55_img04_DOPPLER.npy\n",
      "sono_data_crop_2_018.npy\n",
      "sono_data_crop_2_019.npy\n",
      "sono_data_crop_2_020_img25_GRAYSCALE.npy\n",
      "sono_data_crop_2_020_img26_DOPPLER.npy\n"
     ]
    }
   ],
   "source": [
    "print('.npy file list \\n')\n",
    "for i in file_list:\n",
    "    print(i)"
   ]
  },
  {
   "cell_type": "code",
   "execution_count": 101,
   "metadata": {},
   "outputs": [],
   "source": [
    "# manually set .npy files for selection and use: examples below\n",
    "file_directory = './accuracy_test_np_data/' # select appropriate directory path\n",
    "# subject 5 grayscale: example\n",
    "usn_file_npy = 'sono_data_subject_5_grayscale.npy'\n",
    "usn_binary_segment = 'usn_binary_subject_5_grayscale.npy'\n",
    "fistulogram_cropped = 'fistulogram_subject_5.npy'\n",
    "fistula_binary = 'fistulogram_binary_subject_5.npy'\n",
    "# subject 5 Doppler: replace ultrasound images\n",
    "# usn_file_npy = 'sono_data_subject_5_Doppler.npy'\n",
    "# usn_binary_segment = 'usn_binary_subject_5_Doppler.npy'"
   ]
  },
  {
   "cell_type": "code",
   "execution_count": 102,
   "metadata": {},
   "outputs": [],
   "source": [
    "# load data\n",
    "pixel_data = np.load(file_directory + usn_file_npy)\n",
    "vessel_segment = np.load(file_directory + usn_binary_segment)\n",
    "fistulogram_data = np.load(file_directory + fistulogram_cropped)\n",
    "fistulogram_segment = np.load(file_directory + fistula_binary)\n",
    "shape = pixel_data.shape"
   ]
  },
  {
   "cell_type": "code",
   "execution_count": 103,
   "metadata": {},
   "outputs": [
    {
     "data": {
      "application/vnd.jupyter.widget-view+json": {
       "model_id": "4fdfc5eaf5b4409b9da9f6b1330a3781",
       "version_major": 2,
       "version_minor": 0
      },
      "text/plain": [
       "interactive(children=(IntSlider(value=0, description='frame range', max=679, style=SliderStyle(description_wid…"
      ]
     },
     "metadata": {},
     "output_type": "display_data"
    }
   ],
   "source": [
    "# ultrasound viewer\n",
    "def m_plot_frame(frame_number):\n",
    "    plt.imshow(pixel_data[frame_number,:,:,0], cmap='gray')\n",
    "    return \n",
    "widgets.Label(value='file: ' + usn_file_npy)\n",
    "description_wider = {'description_width': 'initial'}\n",
    "interact(m_plot_frame,\n",
    "         frame_number=widgets.IntSlider(value=0, \\\n",
    "    min=0, max=shape[0]-1, step=1,description='frame range',\\\n",
    "    style=description_wider),\n",
    "        );"
   ]
  },
  {
   "cell_type": "code",
   "execution_count": 11,
   "metadata": {
    "scrolled": false
   },
   "outputs": [
    {
     "data": {
      "application/vnd.jupyter.widget-view+json": {
       "model_id": "29ab56853b3b48639d0c4cf4d7267cc3",
       "version_major": 2,
       "version_minor": 0
      },
      "text/plain": [
       "interactive(children=(IntSlider(value=0, description='frame_number', max=637, style=SliderStyle(description_wi…"
      ]
     },
     "metadata": {},
     "output_type": "display_data"
    }
   ],
   "source": [
    "# CAUTION\n",
    "# thresholding [SKIP this if already starting with binary segment]\n",
    "def threshold_frame(frame_number, threshold):\n",
    "    plt.imshow(pixel_data[frame_number,:,:,0], \\\n",
    "        vmin = threshold_frame.widget.children[1].value[0],\n",
    "        vmax = threshold_frame.widget.children[1].value[1],\n",
    "               cmap='gray')\n",
    "    return \n",
    "\n",
    "description_wider = {'description_width': 'initial'}\n",
    "interact(threshold_frame,\n",
    "         frame_number=widgets.IntSlider(min=0, \n",
    "    max=shape[0]-1, step=1,value=0, style=description_wider),\n",
    "         threshold = widgets.IntRangeSlider(value=[20,50],\\\n",
    "    min=0, max=255, step=1, description='thresh_range', \n",
    "    continuous_update=False, orientation='horizontal', \n",
    "    readout_format='d'),\n",
    "    );"
   ]
  },
  {
   "cell_type": "markdown",
   "metadata": {},
   "source": [
    "# Now use \"vessel_segment\" data"
   ]
  },
  {
   "cell_type": "code",
   "execution_count": 104,
   "metadata": {},
   "outputs": [
    {
     "data": {
      "application/vnd.jupyter.widget-view+json": {
       "model_id": "d74160a8044c49998832cb814eb14751",
       "version_major": 2,
       "version_minor": 0
      },
      "text/plain": [
       "interactive(children=(IntSlider(value=0, description='frame_number', max=679, style=SliderStyle(description_wi…"
      ]
     },
     "metadata": {},
     "output_type": "display_data"
    }
   ],
   "source": [
    "# now let's examine the vessel segment interactively \n",
    "def plot_vessel_segment(frame_number):\n",
    "    frame = vessel_segment[frame_number,:,:]\n",
    "    plt.imshow(frame, cmap='gray')\n",
    "    plt.title('vessel segment data', loc='center')\n",
    "    plt.xlabel('pixels')\n",
    "    plt.ylabel('pixels')\n",
    "\n",
    "description_wider = {'description_width': 'initial'}\n",
    "interact(plot_vessel_segment, frame_number=widgets.IntSlider(min=0, \n",
    "    max=len(vessel_segment)-1, step=1,value=0, style=description_wider));"
   ]
  },
  {
   "cell_type": "code",
   "execution_count": 105,
   "metadata": {},
   "outputs": [],
   "source": [
    "# this one without morphologic, binary, median filtering\n",
    "z_max, y_max, x_max = vessel_segment.shape"
   ]
  },
  {
   "cell_type": "code",
   "execution_count": 106,
   "metadata": {},
   "outputs": [
    {
     "data": {
      "application/vnd.jupyter.widget-view+json": {
       "model_id": "d5d476d90c5e45cf98bddbddf1a34179",
       "version_major": 2,
       "version_minor": 0
      },
      "text/plain": [
       "interactive(children=(IntSlider(value=0, description='top_view_slice', max=249, style=SliderStyle(description_…"
      ]
     },
     "metadata": {},
     "output_type": "display_data"
    }
   ],
   "source": [
    "# tomogram (sono-tomogram) t_plot_frame\n",
    "# examine slices (note: we choose / focus on U-D (up - down),\n",
    "# ASPECT RATIOS (select approximate, based on sweep speed of transducer):\n",
    "# apsect ration range 0.12 to 0.5 for this study\n",
    "\n",
    "def t_plot_frame(top_view_slice):\n",
    "    frame = vessel_segment[:,top_view_slice,:]\n",
    "    frame = frame.T\n",
    "    plt.imshow(frame, cmap='gray', aspect=0.4) # adjust aspect ratio\n",
    "    plt.title('ultrasound \"sono-tomography\" data', loc='center')\n",
    "    plt.xlabel('pixels')\n",
    "    plt.ylabel('pixels')\n",
    "\n",
    "description_wider = {'description_width': 'initial'}\n",
    "interact(t_plot_frame, top_view_slice=widgets.IntSlider(min=0, \n",
    "    max=y_max-1, step=1,value=0, style=description_wider));"
   ]
  },
  {
   "cell_type": "code",
   "execution_count": 107,
   "metadata": {
    "scrolled": true
   },
   "outputs": [
    {
     "data": {
      "application/vnd.jupyter.widget-view+json": {
       "model_id": "373cf6f215414320aa8a2bba4055267f",
       "version_major": 2,
       "version_minor": 0
      },
      "text/plain": [
       "interactive(children=(IntRangeSlider(value=(0, 249), continuous_update=False, description='slice_sum range:', …"
      ]
     },
     "metadata": {},
     "output_type": "display_data"
    }
   ],
   "source": [
    "# SONO ANGIOGRAM\n",
    "# select slices to sum together from sono-tomogram\n",
    "# ASPECT RATIOS (approximate):\n",
    "# apsect ration range 0.12 to 0.5 for this study\n",
    "\n",
    "def frame_sum(top, bottom):\n",
    "    sono_a = np.sum(vessel_segment[:,top:bottom,:], axis = 1)\n",
    "    return sono_a\n",
    "\n",
    "def sono_frame(slice_range):\n",
    "    top = slice_range[0]\n",
    "    bottom = slice_range[1]\n",
    "    frame = frame_sum(top,bottom)\n",
    "    frame = frame.T\n",
    "    plt.imshow(frame, cmap='gray', aspect=0.4) # adjust aspect ratio\n",
    "    plt.title('ultrasound sono-angiogram data', loc='center')\n",
    "    plt.xlabel('pixels')\n",
    "    plt.ylabel('pixels')\n",
    "\n",
    "description_wider = {'description_width': 'initial'}\n",
    "interact(sono_frame, slice_range=widgets.IntRangeSlider(value=[0, y_max-1], min=0, \n",
    "    max=y_max-1, step=1, description='slice_sum range:', readout=True, continuous_update=False,\n",
    "    style=description_wider));\n"
   ]
  },
  {
   "cell_type": "markdown",
   "metadata": {},
   "source": [
    "# Fistulogram viewer"
   ]
  },
  {
   "cell_type": "code",
   "execution_count": 108,
   "metadata": {
    "scrolled": true
   },
   "outputs": [
    {
     "data": {
      "application/vnd.jupyter.widget-view+json": {
       "model_id": "e7d5b754b0644ea88ab3376ef32d1d6a",
       "version_major": 2,
       "version_minor": 0
      },
      "text/plain": [
       "interactive(children=(IntSlider(value=0, description='frame_number', max=0, style=SliderStyle(description_widt…"
      ]
     },
     "metadata": {},
     "output_type": "display_data"
    }
   ],
   "source": [
    "def plot_frame(frame_number):\n",
    "#     frame = fistulogram_data[frame_number,:,:]\n",
    "    frame = fistulogram_data[frame_number,:,:]\n",
    "    plt.imshow(frame, cmap='gray')\n",
    "    plt.title('fistulogram data: view frames', loc='center')\n",
    "    plt.xlabel('pixels')\n",
    "    plt.ylabel('pixels')\n",
    "\n",
    "description_wider = {'description_width': 'initial'}\n",
    "# interact(plot_frame, frame_number=widgets.IntSlider(min=0, \n",
    "#     max=len(fistulogram_data)-1, step=1,value=0, style=description_wider));\n",
    "interact(plot_frame, frame_number=widgets.IntSlider(min=0, \n",
    "    max=len(fistulogram_data)-1, step=1,value=0, style=description_wider));"
   ]
  },
  {
   "cell_type": "code",
   "execution_count": 100,
   "metadata": {},
   "outputs": [
    {
     "data": {
      "application/vnd.jupyter.widget-view+json": {
       "model_id": "86cd7e6554b848689e63411518207fa3",
       "version_major": 2,
       "version_minor": 0
      },
      "text/plain": [
       "interactive(children=(IntSlider(value=0, description='frame_number', max=0, style=SliderStyle(description_widt…"
      ]
     },
     "metadata": {},
     "output_type": "display_data"
    }
   ],
   "source": [
    "# Fistulogram - binary viewer\n",
    "# examine the fistula data, binary and segmented\n",
    "def plot_fistula_segment(frame_number):\n",
    "    frame = fistulogram_segment[frame_number,:,:]\n",
    "    plt.imshow(frame, cmap='gray')\n",
    "    plt.title('vessel segment data', loc='center')\n",
    "    plt.xlabel('pixels')\n",
    "    plt.ylabel('pixels')\n",
    "\n",
    "description_wider = {'description_width': 'initial'}\n",
    "interact(plot_fistula_segment, frame_number=widgets.IntSlider(min=0, \n",
    "    max=len(fistulogram_segment)-1, step=1,value=0, style=description_wider));"
   ]
  },
  {
   "cell_type": "markdown",
   "metadata": {},
   "source": [
    "# FINI"
   ]
  }
 ],
 "metadata": {
  "kernelspec": {
   "display_name": "Python 3",
   "language": "python",
   "name": "python3"
  },
  "language_info": {
   "codemirror_mode": {
    "name": "ipython",
    "version": 3
   },
   "file_extension": ".py",
   "mimetype": "text/x-python",
   "name": "python",
   "nbconvert_exporter": "python",
   "pygments_lexer": "ipython3",
   "version": "3.8.3"
  }
 },
 "nbformat": 4,
 "nbformat_minor": 4
}
